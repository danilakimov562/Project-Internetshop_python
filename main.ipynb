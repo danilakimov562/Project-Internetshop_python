{
 "cells": [
  {
   "cell_type": "code",
   "execution_count": null,
   "id": "524c62f3-ccb9-4ee5-b7eb-20700a0f6aa8",
   "metadata": {},
   "outputs": [],
   "source": []
  }
 ],
 "metadata": {
  "kernelspec": {
   "display_name": "",
   "name": ""
  },
  "language_info": {
   "name": ""
  }
 },
 "nbformat": 4,
 "nbformat_minor": 5
}
